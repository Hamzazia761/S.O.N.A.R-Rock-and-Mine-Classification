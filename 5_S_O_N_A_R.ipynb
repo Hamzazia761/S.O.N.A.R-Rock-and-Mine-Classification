{
  "nbformat": 4,
  "nbformat_minor": 0,
  "metadata": {
    "colab": {
      "provenance": [],
      "authorship_tag": "ABX9TyOg6mVzhsv1fe6M4G6JwpsE",
      "include_colab_link": true
    },
    "kernelspec": {
      "name": "python3",
      "display_name": "Python 3"
    },
    "language_info": {
      "name": "python"
    }
  },
  "cells": [
    {
      "cell_type": "markdown",
      "metadata": {
        "id": "view-in-github",
        "colab_type": "text"
      },
      "source": [
        "<a href=\"https://colab.research.google.com/github/Hamzazia761/S.O.N.A.R-Rock-and-Mine-Classification/blob/main/5_S_O_N_A_R.ipynb\" target=\"_parent\"><img src=\"https://colab.research.google.com/assets/colab-badge.svg\" alt=\"Open In Colab\"/></a>"
      ]
    },
    {
      "cell_type": "code",
      "execution_count": 1,
      "metadata": {
        "id": "ZSQM0DfetQQ1"
      },
      "outputs": [],
      "source": [
        "import pandas as pd\n",
        "import numpy as np\n",
        "import tensorflow.keras"
      ]
    },
    {
      "cell_type": "code",
      "source": [
        "seed = 7\n",
        "np.random.seed(seed)"
      ],
      "metadata": {
        "id": "xZ7ptgFLwGVR"
      },
      "execution_count": 2,
      "outputs": []
    },
    {
      "cell_type": "code",
      "source": [
        "sonar = pd.read_csv('sonar.csv', header=None)\n",
        "sonar_data = sonar.values"
      ],
      "metadata": {
        "id": "Zhj0f5PbukN2"
      },
      "execution_count": 3,
      "outputs": []
    },
    {
      "cell_type": "code",
      "source": [
        "sonar_data"
      ],
      "metadata": {
        "colab": {
          "base_uri": "https://localhost:8080/"
        },
        "id": "CauM1yw7xHNV",
        "outputId": "0c1dfa84-c85a-45c1-c20e-255e4ddf3b95"
      },
      "execution_count": 4,
      "outputs": [
        {
          "output_type": "execute_result",
          "data": {
            "text/plain": [
              "array([[0.02, 0.0371, 0.0428, ..., 0.009, 0.0032, 'R'],\n",
              "       [0.0453, 0.0523, 0.0843, ..., 0.0052, 0.0044, 'R'],\n",
              "       [0.0262, 0.0582, 0.1099, ..., 0.0095, 0.0078, 'R'],\n",
              "       ...,\n",
              "       [0.0522, 0.0437, 0.018, ..., 0.0077, 0.0031, 'M'],\n",
              "       [0.0303, 0.0353, 0.049, ..., 0.0036, 0.0048, 'M'],\n",
              "       [0.026, 0.0363, 0.0136, ..., 0.0061, 0.0115, 'M']], dtype=object)"
            ]
          },
          "metadata": {},
          "execution_count": 4
        }
      ]
    },
    {
      "cell_type": "code",
      "source": [
        "np.random.shuffle(sonar_data)"
      ],
      "metadata": {
        "id": "M9Dp4bsEr4Be"
      },
      "execution_count": 5,
      "outputs": []
    },
    {
      "cell_type": "code",
      "source": [
        "sonar_data"
      ],
      "metadata": {
        "colab": {
          "base_uri": "https://localhost:8080/"
        },
        "id": "cvbeYkhlr-Y3",
        "outputId": "41d4ec69-f159-4d80-e887-d5e33d62f0fa"
      },
      "execution_count": 6,
      "outputs": [
        {
          "output_type": "execute_result",
          "data": {
            "text/plain": [
              "array([[0.0123, 0.0309, 0.0169, ..., 0.0009, 0.0044, 'R'],\n",
              "       [0.0374, 0.0586, 0.0628, ..., 0.0098, 0.0126, 'M'],\n",
              "       [0.0107, 0.0453, 0.0289, ..., 0.0017, 0.0036, 'M'],\n",
              "       ...,\n",
              "       [0.0201, 0.0026, 0.0138, ..., 0.0057, 0.0044, 'R'],\n",
              "       [0.005, 0.0017, 0.027, ..., 0.0017, 0.0028, 'M'],\n",
              "       [0.0294, 0.0123, 0.0117, ..., 0.0081, 0.0043, 'M']], dtype=object)"
            ]
          },
          "metadata": {},
          "execution_count": 6
        }
      ]
    },
    {
      "cell_type": "code",
      "source": [
        "sonar.shape"
      ],
      "metadata": {
        "colab": {
          "base_uri": "https://localhost:8080/"
        },
        "id": "uZ9B0Bn8uyc5",
        "outputId": "ac04086d-c1a7-4751-d21c-61337767967f"
      },
      "execution_count": 7,
      "outputs": [
        {
          "output_type": "execute_result",
          "data": {
            "text/plain": [
              "(208, 61)"
            ]
          },
          "metadata": {},
          "execution_count": 7
        }
      ]
    },
    {
      "cell_type": "code",
      "source": [
        "data = sonar_data[:,0:60]\n",
        "data"
      ],
      "metadata": {
        "colab": {
          "base_uri": "https://localhost:8080/"
        },
        "id": "HmLQbSoVvDie",
        "outputId": "7c043724-9c4c-4038-efb5-11a53a97ea6d"
      },
      "execution_count": 8,
      "outputs": [
        {
          "output_type": "execute_result",
          "data": {
            "text/plain": [
              "array([[0.0123, 0.0309, 0.0169, ..., 0.0092, 0.0009, 0.0044],\n",
              "       [0.0374, 0.0586, 0.0628, ..., 0.0113, 0.0098, 0.0126],\n",
              "       [0.0107, 0.0453, 0.0289, ..., 0.006, 0.0017, 0.0036],\n",
              "       ...,\n",
              "       [0.0201, 0.0026, 0.0138, ..., 0.0024, 0.0057, 0.0044],\n",
              "       [0.005, 0.0017, 0.027, ..., 0.0063, 0.0017, 0.0028],\n",
              "       [0.0294, 0.0123, 0.0117, ..., 0.0006, 0.0081, 0.0043]],\n",
              "      dtype=object)"
            ]
          },
          "metadata": {},
          "execution_count": 8
        }
      ]
    },
    {
      "cell_type": "code",
      "source": [
        "data.shape"
      ],
      "metadata": {
        "colab": {
          "base_uri": "https://localhost:8080/"
        },
        "id": "VtEPN0eXKkBR",
        "outputId": "cd278ac1-8630-450e-d9cf-03f49fc1414d"
      },
      "execution_count": 9,
      "outputs": [
        {
          "output_type": "execute_result",
          "data": {
            "text/plain": [
              "(208, 60)"
            ]
          },
          "metadata": {},
          "execution_count": 9
        }
      ]
    },
    {
      "cell_type": "code",
      "source": [
        "labels = sonar_data[:,60]\n",
        "labels"
      ],
      "metadata": {
        "colab": {
          "base_uri": "https://localhost:8080/"
        },
        "id": "ChR_AgNxwcgB",
        "outputId": "b02e4691-c090-4549-c173-e594617d6ec4"
      },
      "execution_count": 10,
      "outputs": [
        {
          "output_type": "execute_result",
          "data": {
            "text/plain": [
              "array(['R', 'M', 'M', 'M', 'M', 'R', 'M', 'R', 'R', 'R', 'M', 'M', 'M',\n",
              "       'M', 'R', 'R', 'M', 'R', 'M', 'M', 'M', 'M', 'M', 'M', 'M', 'R',\n",
              "       'R', 'M', 'M', 'M', 'R', 'M', 'R', 'M', 'R', 'M', 'M', 'R', 'M',\n",
              "       'M', 'M', 'R', 'R', 'M', 'R', 'R', 'R', 'R', 'R', 'M', 'R', 'M',\n",
              "       'R', 'R', 'M', 'R', 'M', 'R', 'R', 'R', 'M', 'M', 'M', 'M', 'R',\n",
              "       'R', 'M', 'M', 'R', 'M', 'M', 'R', 'M', 'M', 'M', 'R', 'M', 'R',\n",
              "       'M', 'M', 'R', 'M', 'R', 'R', 'M', 'M', 'M', 'M', 'R', 'R', 'R',\n",
              "       'R', 'M', 'R', 'R', 'M', 'R', 'R', 'R', 'M', 'M', 'R', 'M', 'M',\n",
              "       'R', 'M', 'R', 'M', 'M', 'R', 'R', 'R', 'R', 'R', 'M', 'M', 'M',\n",
              "       'R', 'R', 'M', 'R', 'M', 'R', 'M', 'R', 'R', 'M', 'R', 'R', 'M',\n",
              "       'M', 'M', 'R', 'M', 'M', 'R', 'R', 'R', 'M', 'M', 'R', 'M', 'M',\n",
              "       'M', 'R', 'R', 'M', 'R', 'M', 'M', 'M', 'M', 'M', 'M', 'M', 'M',\n",
              "       'M', 'M', 'R', 'R', 'R', 'M', 'R', 'M', 'R', 'M', 'M', 'M', 'R',\n",
              "       'R', 'M', 'R', 'M', 'R', 'R', 'M', 'R', 'M', 'M', 'R', 'R', 'R',\n",
              "       'R', 'R', 'R', 'R', 'R', 'M', 'M', 'M', 'M', 'R', 'M', 'M', 'R',\n",
              "       'M', 'R', 'R', 'R', 'M', 'M', 'R', 'M', 'M', 'R', 'R', 'M', 'M'],\n",
              "      dtype=object)"
            ]
          },
          "metadata": {},
          "execution_count": 10
        }
      ]
    },
    {
      "cell_type": "code",
      "source": [
        "labels.shape"
      ],
      "metadata": {
        "colab": {
          "base_uri": "https://localhost:8080/"
        },
        "id": "1TeF6K3ZKoPQ",
        "outputId": "d2a96b01-c51d-420b-f1f6-36a088ed8082"
      },
      "execution_count": 11,
      "outputs": [
        {
          "output_type": "execute_result",
          "data": {
            "text/plain": [
              "(208,)"
            ]
          },
          "metadata": {},
          "execution_count": 11
        }
      ]
    },
    {
      "cell_type": "code",
      "source": [
        "labels.ndim"
      ],
      "metadata": {
        "colab": {
          "base_uri": "https://localhost:8080/"
        },
        "id": "jXKECcXizB9G",
        "outputId": "a8c7d3b3-327e-4192-e1a6-8bfb19537828"
      },
      "execution_count": 12,
      "outputs": [
        {
          "output_type": "execute_result",
          "data": {
            "text/plain": [
              "1"
            ]
          },
          "metadata": {},
          "execution_count": 12
        }
      ]
    },
    {
      "cell_type": "code",
      "source": [
        "train_data = data[:170,:]\n",
        "train_labels= labels[:170,:]"
      ],
      "metadata": {
        "colab": {
          "base_uri": "https://localhost:8080/",
          "height": 182
        },
        "id": "UY9RmAxMoYk_",
        "outputId": "26c82d46-e18a-4bbf-afb8-e58c734daa47"
      },
      "execution_count": 13,
      "outputs": [
        {
          "output_type": "error",
          "ename": "IndexError",
          "evalue": "ignored",
          "traceback": [
            "\u001b[0;31m---------------------------------------------------------------------------\u001b[0m",
            "\u001b[0;31mIndexError\u001b[0m                                Traceback (most recent call last)",
            "\u001b[0;32m<ipython-input-13-50aa6758972f>\u001b[0m in \u001b[0;36m<cell line: 2>\u001b[0;34m()\u001b[0m\n\u001b[1;32m      1\u001b[0m \u001b[0mtrain_data\u001b[0m \u001b[0;34m=\u001b[0m \u001b[0mdata\u001b[0m\u001b[0;34m[\u001b[0m\u001b[0;34m:\u001b[0m\u001b[0;36m170\u001b[0m\u001b[0;34m,\u001b[0m\u001b[0;34m:\u001b[0m\u001b[0;34m]\u001b[0m\u001b[0;34m\u001b[0m\u001b[0;34m\u001b[0m\u001b[0m\n\u001b[0;32m----> 2\u001b[0;31m \u001b[0mtrain_labels\u001b[0m\u001b[0;34m=\u001b[0m \u001b[0mlabels\u001b[0m\u001b[0;34m[\u001b[0m\u001b[0;34m:\u001b[0m\u001b[0;36m170\u001b[0m\u001b[0;34m,\u001b[0m\u001b[0;34m:\u001b[0m\u001b[0;34m]\u001b[0m\u001b[0;34m\u001b[0m\u001b[0;34m\u001b[0m\u001b[0m\n\u001b[0m",
            "\u001b[0;31mIndexError\u001b[0m: too many indices for array: array is 1-dimensional, but 2 were indexed"
          ]
        }
      ]
    },
    {
      "cell_type": "code",
      "source": [
        "test_data = [170:208]\n",
        "test_labels = [170:, :]"
      ],
      "metadata": {
        "id": "d9iwgkvOyLgO"
      },
      "execution_count": null,
      "outputs": []
    },
    {
      "cell_type": "code",
      "source": [
        "from keras.utils import to_categorical"
      ],
      "metadata": {
        "id": "DNkki4VbxWFy"
      },
      "execution_count": 13,
      "outputs": []
    },
    {
      "cell_type": "code",
      "source": [
        "#labels = to_categorical(labels)"
      ],
      "metadata": {
        "id": "bHJLRezKx5PG"
      },
      "execution_count": 14,
      "outputs": []
    },
    {
      "cell_type": "code",
      "source": [
        "#labels"
      ],
      "metadata": {
        "id": "Grs3zKjgx_yh"
      },
      "execution_count": 15,
      "outputs": []
    },
    {
      "cell_type": "code",
      "source": [
        "from tensorflow.keras import models\n",
        "from tensorflow.keras import layers"
      ],
      "metadata": {
        "id": "mN1RpG9FyA2z"
      },
      "execution_count": 16,
      "outputs": []
    },
    {
      "cell_type": "code",
      "source": [
        "model = models.Sequential()"
      ],
      "metadata": {
        "id": "VuRPKwrtvQF2"
      },
      "execution_count": 17,
      "outputs": []
    },
    {
      "cell_type": "code",
      "source": [
        "model.add(layers.Dense(8, activation='relu', input_shape=(208,60)))\n",
        "model.add(layers.Dense(8, activation='relu'))\n",
        "model.add(layers.Dense(1, activation='sigmoid'))"
      ],
      "metadata": {
        "id": "gVKKXNzivXZv"
      },
      "execution_count": 18,
      "outputs": []
    },
    {
      "cell_type": "code",
      "source": [
        "model.compile(optimizer='rmsprop', loss='binary_crossentropy', metrics=['accuracy'])"
      ],
      "metadata": {
        "id": "25Urwj_NwUsC"
      },
      "execution_count": 19,
      "outputs": []
    },
    {
      "cell_type": "code",
      "source": [],
      "metadata": {
        "id": "NtbB-_vTwxqv"
      },
      "execution_count": 19,
      "outputs": []
    }
  ]
}